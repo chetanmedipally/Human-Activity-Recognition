{
 "cells": [
  {
   "cell_type": "code",
   "execution_count": 1,
   "metadata": {},
   "outputs": [],
   "source": [
    "# Importing Libraries"
   ]
  },
  {
   "cell_type": "code",
   "execution_count": 2,
   "metadata": {},
   "outputs": [],
   "source": [
    "import pandas as pd\n",
    "import numpy as np"
   ]
  },
  {
   "cell_type": "code",
   "execution_count": 3,
   "metadata": {},
   "outputs": [],
   "source": [
    "# Activities are the class labels\n",
    "# It is a 6 class classification\n",
    "ACTIVITIES = {\n",
    "    0: 'WALKING',\n",
    "    1: 'WALKING_UPSTAIRS',\n",
    "    2: 'WALKING_DOWNSTAIRS',\n",
    "    3: 'SITTING',\n",
    "    4: 'STANDING',\n",
    "    5: 'LAYING',\n",
    "}\n",
    "\n",
    "# Utility function to print the confusion matrix\n",
    "def confusion_matrix(Y_true, Y_pred):\n",
    "    Y_true = pd.Series([ACTIVITIES[y] for y in np.argmax(Y_true, axis=1)])\n",
    "    Y_pred = pd.Series([ACTIVITIES[y] for y in np.argmax(Y_pred, axis=1)])\n",
    "\n",
    "    return pd.crosstab(Y_true, Y_pred, rownames=['True'], colnames=['Pred'])"
   ]
  },
  {
   "cell_type": "markdown",
   "metadata": {},
   "source": [
    "### Data"
   ]
  },
  {
   "cell_type": "code",
   "execution_count": 4,
   "metadata": {},
   "outputs": [],
   "source": [
    "# Data directory\n",
    "DATADIR = 'UCI_HAR_Dataset'"
   ]
  },
  {
   "cell_type": "code",
   "execution_count": 5,
   "metadata": {},
   "outputs": [],
   "source": [
    "# Raw data signals\n",
    "# Signals are from Accelerometer and Gyroscope\n",
    "# The signals are in x,y,z directions\n",
    "# Sensor signals are filtered to have only body acceleration\n",
    "# excluding the acceleration due to gravity\n",
    "# Triaxial acceleration from the accelerometer is total acceleration\n",
    "SIGNALS = [\n",
    "    \"body_acc_x\",\n",
    "    \"body_acc_y\",\n",
    "    \"body_acc_z\",\n",
    "    \"body_gyro_x\",\n",
    "    \"body_gyro_y\",\n",
    "    \"body_gyro_z\",\n",
    "    \"total_acc_x\",\n",
    "    \"total_acc_y\",\n",
    "    \"total_acc_z\"\n",
    "]"
   ]
  },
  {
   "cell_type": "code",
   "execution_count": 6,
   "metadata": {},
   "outputs": [],
   "source": [
    "# Utility function to read the data from csv file\n",
    "def _read_csv(filename):\n",
    "    return pd.read_csv(filename, delim_whitespace=True, header=None)\n",
    "\n",
    "# Utility function to load the load\n",
    "def load_signals(subset):\n",
    "    signals_data = []\n",
    "\n",
    "    for signal in SIGNALS:\n",
    "        filename = f'UCI_HAR_Dataset/{subset}/Inertial Signals/{signal}_{subset}.txt'\n",
    "        signals_data.append(\n",
    "            _read_csv(filename).as_matrix()\n",
    "        ) \n",
    "\n",
    "    # Transpose is used to change the dimensionality of the output,\n",
    "    # aggregating the signals by combination of sample/timestep.\n",
    "    # Resultant shape is (7352 train/2947 test samples, 128 timesteps, 9 signals)\n",
    "    return np.transpose(signals_data, (1, 2, 0))"
   ]
  },
  {
   "cell_type": "code",
   "execution_count": 7,
   "metadata": {},
   "outputs": [],
   "source": [
    "\n",
    "def load_y(subset):\n",
    "    \"\"\"\n",
    "    The objective that we are trying to predict is a integer, from 1 to 6,\n",
    "    that represents a human activity. We return a binary representation of \n",
    "    every sample objective as a 6 bits vector using One Hot Encoding\n",
    "    (https://pandas.pydata.org/pandas-docs/stable/generated/pandas.get_dummies.html)\n",
    "    \"\"\"\n",
    "    filename = f'UCI_HAR_Dataset/{subset}/y_{subset}.txt'\n",
    "    y = _read_csv(filename)[0]\n",
    "\n",
    "    return pd.get_dummies(y).as_matrix()"
   ]
  },
  {
   "cell_type": "code",
   "execution_count": 8,
   "metadata": {},
   "outputs": [],
   "source": [
    "def load_data():\n",
    "    \"\"\"\n",
    "    Obtain the dataset from multiple files.\n",
    "    Returns: X_train, X_test, y_train, y_test\n",
    "    \"\"\"\n",
    "    X_train, X_test = load_signals('train'), load_signals('test')\n",
    "    y_train, y_test = load_y('train'), load_y('test')\n",
    "\n",
    "    return X_train, X_test, y_train, y_test"
   ]
  },
  {
   "cell_type": "code",
   "execution_count": 9,
   "metadata": {},
   "outputs": [],
   "source": [
    "# Importing tensorflow\n",
    "np.random.seed(42)\n",
    "import tensorflow as tf\n",
    "tf.set_random_seed(42)"
   ]
  },
  {
   "cell_type": "code",
   "execution_count": 10,
   "metadata": {},
   "outputs": [],
   "source": [
    "# Configuring a session\n",
    "session_conf = tf.ConfigProto(\n",
    "    intra_op_parallelism_threads=1,\n",
    "    inter_op_parallelism_threads=1\n",
    ")"
   ]
  },
  {
   "cell_type": "code",
   "execution_count": 11,
   "metadata": {},
   "outputs": [
    {
     "name": "stderr",
     "output_type": "stream",
     "text": [
      "Using TensorFlow backend.\n"
     ]
    }
   ],
   "source": [
    "# Import Keras\n",
    "from keras import backend as K\n",
    "sess = tf.Session(graph=tf.get_default_graph(), config=session_conf)\n",
    "K.set_session(sess)"
   ]
  },
  {
   "cell_type": "code",
   "execution_count": 12,
   "metadata": {},
   "outputs": [],
   "source": [
    "# Importing libraries\n",
    "from keras.models import Sequential\n",
    "from keras.layers import LSTM,BatchNormalization\n",
    "from keras.layers.core import Dense, Dropout"
   ]
  },
  {
   "cell_type": "code",
   "execution_count": 23,
   "metadata": {},
   "outputs": [],
   "source": [
    "# Initializing parameters\n",
    "epochs = 30\n",
    "batch_size = 16\n",
    "n_hidden = 128"
   ]
  },
  {
   "cell_type": "code",
   "execution_count": 14,
   "metadata": {},
   "outputs": [],
   "source": [
    "# Utility function to count the number of classes\n",
    "def _count_classes(y):\n",
    "    return len(set([tuple(category) for category in y]))"
   ]
  },
  {
   "cell_type": "code",
   "execution_count": 15,
   "metadata": {},
   "outputs": [
    {
     "name": "stderr",
     "output_type": "stream",
     "text": [
      "C:\\Users\\mchetankumar\\AppData\\Local\\Continuum\\anaconda3\\envs\\TaxiEnv\\lib\\site-packages\\ipykernel_launcher.py:12: FutureWarning: Method .as_matrix will be removed in a future version. Use .values instead.\n",
      "  if sys.path[0] == '':\n",
      "C:\\Users\\mchetankumar\\AppData\\Local\\Continuum\\anaconda3\\envs\\TaxiEnv\\lib\\site-packages\\ipykernel_launcher.py:11: FutureWarning: Method .as_matrix will be removed in a future version. Use .values instead.\n",
      "  # This is added back by InteractiveShellApp.init_path()\n"
     ]
    }
   ],
   "source": [
    "# Loading the train and test data\n",
    "X_train, X_test, Y_train, Y_test = load_data()"
   ]
  },
  {
   "cell_type": "code",
   "execution_count": 16,
   "metadata": {},
   "outputs": [
    {
     "name": "stdout",
     "output_type": "stream",
     "text": [
      "128\n",
      "9\n",
      "7352\n"
     ]
    }
   ],
   "source": [
    "timesteps = len(X_train[0])\n",
    "input_dim = len(X_train[0][0])\n",
    "n_classes = _count_classes(Y_train)\n",
    "\n",
    "print(timesteps)\n",
    "print(input_dim)\n",
    "print(len(X_train))"
   ]
  },
  {
   "cell_type": "markdown",
   "metadata": {},
   "source": [
    "- Defining the Architecture of LSTM"
   ]
  },
  {
   "cell_type": "code",
   "execution_count": 24,
   "metadata": {},
   "outputs": [
    {
     "name": "stdout",
     "output_type": "stream",
     "text": [
      "_________________________________________________________________\n",
      "Layer (type)                 Output Shape              Param #   \n",
      "=================================================================\n",
      "lstm_2 (LSTM)                (None, 128)               70656     \n",
      "_________________________________________________________________\n",
      "batch_normalization_2 (Batch (None, 128)               512       \n",
      "_________________________________________________________________\n",
      "dropout_2 (Dropout)          (None, 128)               0         \n",
      "_________________________________________________________________\n",
      "dense_2 (Dense)              (None, 6)                 774       \n",
      "=================================================================\n",
      "Total params: 71,942\n",
      "Trainable params: 71,686\n",
      "Non-trainable params: 256\n",
      "_________________________________________________________________\n"
     ]
    }
   ],
   "source": [
    "# Initiliazing the sequential model\n",
    "from keras import regularizers\n",
    "model = Sequential()\n",
    "# Configuring the parameters\n",
    "model.add(LSTM(n_hidden,input_shape=(timesteps, input_dim),kernel_regularizer=regularizers.l2(1e-4)))\n",
    "model.add(BatchNormalization())\n",
    "# Adding a dropout layer\n",
    "model.add(Dropout(0.2))\n",
    "# Adding a dense output layer with sigmoid activation\n",
    "model.add(Dense(n_classes, activation='sigmoid'))\n",
    "model.summary()"
   ]
  },
  {
   "cell_type": "code",
   "execution_count": 25,
   "metadata": {},
   "outputs": [],
   "source": [
    "# Compiling the model\n",
    "model.compile(loss='categorical_crossentropy',\n",
    "              optimizer='adam',\n",
    "              metrics=['accuracy'])"
   ]
  },
  {
   "cell_type": "code",
   "execution_count": 26,
   "metadata": {},
   "outputs": [
    {
     "name": "stdout",
     "output_type": "stream",
     "text": [
      "Train on 7352 samples, validate on 2947 samples\n",
      "Epoch 1/30\n",
      "7352/7352 [==============================] - 125s 17ms/step - loss: 0.9490 - acc: 0.5926 - val_loss: 0.7374 - val_acc: 0.6461\n",
      "Epoch 2/30\n",
      "7352/7352 [==============================] - 122s 17ms/step - loss: 0.6967 - acc: 0.6766 - val_loss: 0.8233 - val_acc: 0.6451\n",
      "Epoch 3/30\n",
      "7352/7352 [==============================] - 122s 17ms/step - loss: 0.4318 - acc: 0.8402 - val_loss: 0.7318 - val_acc: 0.7112\n",
      "Epoch 4/30\n",
      "7352/7352 [==============================] - 122s 17ms/step - loss: 0.4208 - acc: 0.8371 - val_loss: 0.3834 - val_acc: 0.8741\n",
      "Epoch 5/30\n",
      "7352/7352 [==============================] - 122s 17ms/step - loss: 0.1957 - acc: 0.9286 - val_loss: 0.2748 - val_acc: 0.9094\n",
      "Epoch 6/30\n",
      "7352/7352 [==============================] - 122s 17ms/step - loss: 0.1869 - acc: 0.9286 - val_loss: 0.2424 - val_acc: 0.9084\n",
      "Epoch 7/30\n",
      "7352/7352 [==============================] - 122s 17ms/step - loss: 0.1828 - acc: 0.9340 - val_loss: 0.2359 - val_acc: 0.9175\n",
      "Epoch 8/30\n",
      "7352/7352 [==============================] - 124s 17ms/step - loss: 0.1557 - acc: 0.9397 - val_loss: 0.3304 - val_acc: 0.8850\n",
      "Epoch 9/30\n",
      "7352/7352 [==============================] - 125s 17ms/step - loss: 0.1918 - acc: 0.9252 - val_loss: 0.3118 - val_acc: 0.9063\n",
      "Epoch 10/30\n",
      "7352/7352 [==============================] - 125s 17ms/step - loss: 0.1722 - acc: 0.9336 - val_loss: 0.2821 - val_acc: 0.9046\n",
      "Epoch 11/30\n",
      "7352/7352 [==============================] - 124s 17ms/step - loss: 0.1419 - acc: 0.9434 - val_loss: 0.2459 - val_acc: 0.9155\n",
      "Epoch 12/30\n",
      "7352/7352 [==============================] - 123s 17ms/step - loss: 0.1474 - acc: 0.9446 - val_loss: 0.2156 - val_acc: 0.9155\n",
      "Epoch 13/30\n",
      "7352/7352 [==============================] - 122s 17ms/step - loss: 0.1524 - acc: 0.9441 - val_loss: 0.2741 - val_acc: 0.9148\n",
      "Epoch 14/30\n",
      "7352/7352 [==============================] - 122s 17ms/step - loss: 0.1318 - acc: 0.9474 - val_loss: 0.2568 - val_acc: 0.9274\n",
      "Epoch 15/30\n",
      "7352/7352 [==============================] - 122s 17ms/step - loss: 0.1260 - acc: 0.9521 - val_loss: 0.2593 - val_acc: 0.9274\n",
      "Epoch 16/30\n",
      "7352/7352 [==============================] - 123s 17ms/step - loss: 0.1381 - acc: 0.9449 - val_loss: 0.2024 - val_acc: 0.9158\n",
      "Epoch 17/30\n",
      "7352/7352 [==============================] - 122s 17ms/step - loss: 0.1485 - acc: 0.9425 - val_loss: 0.2398 - val_acc: 0.9074\n",
      "Epoch 18/30\n",
      "7352/7352 [==============================] - 122s 17ms/step - loss: 0.1328 - acc: 0.9463 - val_loss: 0.2459 - val_acc: 0.9243\n",
      "Epoch 19/30\n",
      "7352/7352 [==============================] - 122s 17ms/step - loss: 0.1402 - acc: 0.9436 - val_loss: 0.2256 - val_acc: 0.9304\n",
      "Epoch 20/30\n",
      "7352/7352 [==============================] - 122s 17ms/step - loss: 0.1402 - acc: 0.9464 - val_loss: 0.2505 - val_acc: 0.9216\n",
      "Epoch 21/30\n",
      "7352/7352 [==============================] - 122s 17ms/step - loss: 0.1556 - acc: 0.9412 - val_loss: 0.3855 - val_acc: 0.8894\n",
      "Epoch 22/30\n",
      "7352/7352 [==============================] - 122s 17ms/step - loss: 0.1296 - acc: 0.9482 - val_loss: 0.2030 - val_acc: 0.9355\n",
      "Epoch 23/30\n",
      "7352/7352 [==============================] - 122s 17ms/step - loss: 0.1332 - acc: 0.9483 - val_loss: 0.2785 - val_acc: 0.9091\n",
      "Epoch 24/30\n",
      "7352/7352 [==============================] - 121s 16ms/step - loss: 0.1440 - acc: 0.9467 - val_loss: 0.2270 - val_acc: 0.9281\n",
      "Epoch 25/30\n",
      "7352/7352 [==============================] - 122s 17ms/step - loss: 0.1233 - acc: 0.9493 - val_loss: 0.2883 - val_acc: 0.9186\n",
      "Epoch 26/30\n",
      "7352/7352 [==============================] - 129s 18ms/step - loss: 0.1196 - acc: 0.9508 - val_loss: 0.2630 - val_acc: 0.9169\n",
      "Epoch 27/30\n",
      "7352/7352 [==============================] - 129s 18ms/step - loss: 0.1194 - acc: 0.9491 - val_loss: 0.1988 - val_acc: 0.9308\n",
      "Epoch 28/30\n",
      "7352/7352 [==============================] - 126s 17ms/step - loss: 0.1268 - acc: 0.9525 - val_loss: 0.2684 - val_acc: 0.9233\n",
      "Epoch 29/30\n",
      "7352/7352 [==============================] - 129s 17ms/step - loss: 0.1245 - acc: 0.9508 - val_loss: 0.2613 - val_acc: 0.9291\n",
      "Epoch 30/30\n",
      "7352/7352 [==============================] - 124s 17ms/step - loss: 0.1190 - acc: 0.9532 - val_loss: 0.2125 - val_acc: 0.9362\n"
     ]
    },
    {
     "data": {
      "text/plain": [
       "<keras.callbacks.History at 0x24ed756c9e8>"
      ]
     },
     "execution_count": 26,
     "metadata": {},
     "output_type": "execute_result"
    }
   ],
   "source": [
    "# Training the model\n",
    "model.fit(X_train,\n",
    "          Y_train,\n",
    "          batch_size=batch_size,\n",
    "          validation_data=(X_test, Y_test),\n",
    "          epochs=epochs)"
   ]
  },
  {
   "cell_type": "code",
   "execution_count": 27,
   "metadata": {},
   "outputs": [
    {
     "name": "stdout",
     "output_type": "stream",
     "text": [
      "Pred                LAYING  SITTING  STANDING  WALKING  WALKING_DOWNSTAIRS  \\\n",
      "True                                                                         \n",
      "LAYING                 537        0         0        0                   0   \n",
      "SITTING                  2      373       115        0                   0   \n",
      "STANDING                 0       60       471        1                   0   \n",
      "WALKING                  0        0         0      493                   2   \n",
      "WALKING_DOWNSTAIRS       0        0         0        0                 418   \n",
      "WALKING_UPSTAIRS         0        0         0        0                   4   \n",
      "\n",
      "Pred                WALKING_UPSTAIRS  \n",
      "True                                  \n",
      "LAYING                             0  \n",
      "SITTING                            1  \n",
      "STANDING                           0  \n",
      "WALKING                            1  \n",
      "WALKING_DOWNSTAIRS                 2  \n",
      "WALKING_UPSTAIRS                 467  \n"
     ]
    }
   ],
   "source": [
    "# Confusion Matrix\n",
    "print(confusion_matrix(Y_test, model.predict(X_test)))"
   ]
  },
  {
   "cell_type": "code",
   "execution_count": 28,
   "metadata": {},
   "outputs": [
    {
     "name": "stdout",
     "output_type": "stream",
     "text": [
      "2947/2947 [==============================] - 7s 2ms/step\n"
     ]
    }
   ],
   "source": [
    "score = model.evaluate(X_test, Y_test)"
   ]
  },
  {
   "cell_type": "code",
   "execution_count": 29,
   "metadata": {},
   "outputs": [
    {
     "data": {
      "text/plain": [
       "[0.21251263201785342, 0.9362063115032236]"
      ]
     },
     "execution_count": 29,
     "metadata": {},
     "output_type": "execute_result"
    }
   ],
   "source": [
    "score"
   ]
  },
  {
   "cell_type": "code",
   "execution_count": 3,
   "metadata": {},
   "outputs": [
    {
     "name": "stdout",
     "output_type": "stream",
     "text": [
      "+--------------+-------------------+-------------+---------+-----------+----------+\n",
      "| Architecture | Hidden LSTM Units | LSTM Layers | Dropout | Test Loss | Accuracy |\n",
      "+--------------+-------------------+-------------+---------+-----------+----------+\n",
      "|      1       |         32        |      NA     |   0.5   |    0.41   |   0.91   |\n",
      "|      2       |         64        |      NA     |   0.25  |    0.3    |   0.92   |\n",
      "|      3       |        100        |      NA     |   0.75  |    0.56   |   0.9    |\n",
      "|      4       |        128        |      1      |   0.5   |    0.36   |   0.93   |\n",
      "|      5       |        128        |      2      |   0.75  |    0.45   |   0.91   |\n",
      "|      6       |        250        |      2      |   0.75  |    1.28   |   0.84   |\n",
      "|      7       |        180        |      2      |   0.25  |    0.5    |   0.9    |\n",
      "|      8       |        200        |      1      |   0.75  |    0.47   |   0.89   |\n",
      "|      9       |        128        |      1      |   0.2   |    0.21   |   0.94   |\n",
      "+--------------+-------------------+-------------+---------+-----------+----------+\n"
     ]
    }
   ],
   "source": [
    "from prettytable import PrettyTable\n",
    "    \n",
    "x = PrettyTable()\n",
    "\n",
    "x.field_names = [\"Architecture\", \"Hidden LSTM Units\", \"LSTM Layers\", \"Dropout\",\"Test Loss\",\"Accuracy\"]\n",
    "\n",
    "x.add_row([\"1\", \"32\",\"NA\",0.50,0.41,0.91])\n",
    "x.add_row([\"2\", \"64\",\"NA\",0.25,0.30,0.92])\n",
    "x.add_row([\"3\", \"100\",\"NA\",0.75,0.56,0.90])\n",
    "x.add_row([\"4\", \"128\",\"1\",0.50,0.36,0.93])\n",
    "x.add_row([\"5\", \"128\",\"2\",0.75,0.45,0.91])\n",
    "x.add_row([\"6\", \"250\",\"2\",0.75,1.28,0.84])\n",
    "x.add_row([\"7\", \"180\",\"2\",0.25,0.50,0.90])\n",
    "x.add_row([\"8\", \"200\",\"1\",0.75,0.47,0.89])\n",
    "x.add_row([\"9\", \"128\",\"1\",0.2,0.21,0.94])\n",
    "print(x)"
   ]
  },
  {
   "cell_type": "markdown",
   "metadata": {},
   "source": [
    "- I was able to improve the accuracy from 90.09% to 93.62% and loss from 0.30 to 0.21"
   ]
  }
 ],
 "metadata": {
  "kernelspec": {
   "display_name": "Python 3",
   "language": "python",
   "name": "python3"
  },
  "language_info": {
   "codemirror_mode": {
    "name": "ipython",
    "version": 3
   },
   "file_extension": ".py",
   "mimetype": "text/x-python",
   "name": "python",
   "nbconvert_exporter": "python",
   "pygments_lexer": "ipython3",
   "version": "3.7.3"
  }
 },
 "nbformat": 4,
 "nbformat_minor": 2
}
